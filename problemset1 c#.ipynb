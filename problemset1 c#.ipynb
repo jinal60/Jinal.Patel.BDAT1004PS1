{
 "cells": [
  {
   "cell_type": "code",
   "execution_count": null,
   "id": "f7ead14f",
   "metadata": {},
   "outputs": [],
   "source": [
    "1.What data type is each of the following?"
   ]
  },
  {
   "cell_type": "code",
   "execution_count": 19,
   "id": "26da9b83",
   "metadata": {
    "scrolled": true
   },
   "outputs": [
    {
     "name": "stdout",
     "output_type": "stream",
     "text": [
      "System.Int32\r\n"
     ]
    }
   ],
   "source": [
    "int a=5;\n",
    "Console.WriteLine(a.GetType());"
   ]
  },
  {
   "cell_type": "code",
   "execution_count": 21,
   "id": "eaaf3045",
   "metadata": {},
   "outputs": [
    {
     "name": "stdout",
     "output_type": "stream",
     "text": [
      "System.Double\r\n"
     ]
    }
   ],
   "source": [
    "double a=5.0;\n",
    "Console.WriteLine(a.GetType());"
   ]
  },
  {
   "cell_type": "code",
   "execution_count": 22,
   "id": "45eadddc",
   "metadata": {},
   "outputs": [
    {
     "name": "stdout",
     "output_type": "stream",
     "text": [
      "System.Char\r\n"
     ]
    }
   ],
   "source": [
    "char a='5';\n",
    "Console.WriteLine(a.GetType());"
   ]
  },
  {
   "cell_type": "code",
   "execution_count": 23,
   "id": "c156e30e",
   "metadata": {},
   "outputs": [
    {
     "name": "stdout",
     "output_type": "stream",
     "text": [
      "System.Int32\r\n"
     ]
    }
   ],
   "source": [
    "int a=5*2;\n",
    "Console.WriteLine(a.GetType());"
   ]
  },
  {
   "cell_type": "code",
   "execution_count": 24,
   "id": "8f84efd3",
   "metadata": {},
   "outputs": [
    {
     "name": "stdout",
     "output_type": "stream",
     "text": [
      "System.Int32\r\n"
     ]
    }
   ],
   "source": [
    "int a='5'*2;\n",
    "Console.WriteLine(a.GetType());"
   ]
  },
  {
   "cell_type": "code",
   "execution_count": 25,
   "id": "858722d2",
   "metadata": {},
   "outputs": [
    {
     "name": "stdout",
     "output_type": "stream",
     "text": [
      "System.Int32\r\n"
     ]
    }
   ],
   "source": [
    "int a='5'+'2';\n",
    "Console.WriteLine(a.GetType());"
   ]
  },
  {
   "cell_type": "code",
   "execution_count": 26,
   "id": "398104ac",
   "metadata": {},
   "outputs": [
    {
     "name": "stdout",
     "output_type": "stream",
     "text": [
      "System.Int32\r\n"
     ]
    }
   ],
   "source": [
    "int a=5/2;\n",
    "Console.WriteLine(a.GetType());"
   ]
  },
  {
   "cell_type": "code",
   "execution_count": 27,
   "id": "a01f9883",
   "metadata": {},
   "outputs": [
    {
     "name": "stdout",
     "output_type": "stream",
     "text": [
      "System.Int32\r\n"
     ]
    }
   ],
   "source": [
    "int a=5%2;\n",
    "Console.WriteLine(a.GetType());"
   ]
  },
  {
   "cell_type": "code",
   "execution_count": 30,
   "id": "e5c3c501",
   "metadata": {},
   "outputs": [
    {
     "name": "stdout",
     "output_type": "stream",
     "text": [
      "System.Int32[]\r\n"
     ]
    }
   ],
   "source": [
    "int []a={5,2,1};\n",
    "Console.WriteLine(a.GetType());"
   ]
  },
  {
   "cell_type": "code",
   "execution_count": 32,
   "id": "c2157640",
   "metadata": {},
   "outputs": [
    {
     "name": "stdout",
     "output_type": "stream",
     "text": [
      "System.Boolean\r\n"
     ]
    }
   ],
   "source": [
    "Boolean a=(5==3);\n",
    "Console.WriteLine(a.GetType());"
   ]
  },
  {
   "cell_type": "code",
   "execution_count": 33,
   "id": "93903133",
   "metadata": {},
   "outputs": [
    {
     "name": "stdout",
     "output_type": "stream",
     "text": [
      "System.Double\r\n"
     ]
    }
   ],
   "source": [
    "double a=22/7;\n",
    "Console.WriteLine(a.GetType());"
   ]
  },
  {
   "cell_type": "code",
   "execution_count": null,
   "id": "2efdcf1c",
   "metadata": {},
   "outputs": [],
   "source": [
    "2.Write (and evaluate) C# expressions that answer these questions:"
   ]
  },
  {
   "cell_type": "code",
   "execution_count": null,
   "id": "916e7967",
   "metadata": {},
   "outputs": [],
   "source": [
    "a.How many letters are there in 'Supercalifragilisticexpialidocious'?"
   ]
  },
  {
   "cell_type": "code",
   "execution_count": 34,
   "id": "cad2ab42",
   "metadata": {},
   "outputs": [
    {
     "name": "stdout",
     "output_type": "stream",
     "text": [
      "Length of the given string: 34\r\n"
     ]
    }
   ],
   "source": [
    "  string givenhere= \"Supercalifragilisticexpialidocious\";\n",
    "  int noOfChar= givenhere.Length;\n",
    "  Console.WriteLine(\"Length of the given string: \"+noOfChar)\n"
   ]
  },
  {
   "cell_type": "code",
   "execution_count": null,
   "id": "401cc18e",
   "metadata": {},
   "outputs": [],
   "source": [
    "b.Does 'Supercalifragilisticexpialidocious' contain 'ice' as a substring?"
   ]
  },
  {
   "cell_type": "code",
   "execution_count": 35,
   "id": "9996929c",
   "metadata": {},
   "outputs": [
    {
     "name": "stdout",
     "output_type": "stream",
     "text": [
      "given sting contains the substring ice.\r\n"
     ]
    }
   ],
   "source": [
    "    String givenhere = \"Supercalifragilisticexpialidocious\";\n",
    "    String substring= \"ice\"; \n",
    "\n",
    "        if(givenhere.Contains(substring)) \n",
    "         \n",
    "            Console.WriteLine(\"Given sting contains the substring ice\"+'.');\n",
    "        \n",
    "        else \n",
    "    \n",
    "            Console.WriteLine(\"Given string does not contains the substring ice\"+'.');"
   ]
  },
  {
   "cell_type": "code",
   "execution_count": null,
   "id": "9de35414",
   "metadata": {},
   "outputs": [],
   "source": [
    "c.Which of the following words is the longest: \n",
    "  Supercalifragilisticexpialidocious, Honorificabilitudinitatibus, or \n",
    "  Bababadalgharaghtakamminarronnkonn? "
   ]
  },
  {
   "cell_type": "code",
   "execution_count": 34,
   "id": "793f20c1",
   "metadata": {},
   "outputs": [
    {
     "name": "stdout",
     "output_type": "stream",
     "text": [
      "Longest word is the Bababadalgharaghtakamminarronnkonn.\r\n"
     ]
    }
   ],
   "source": [
    "    string given1 = \"Supercalifragilisticexpialidocious\";\n",
    "    string given2= \"Honorificabilitudinitatibus\";\n",
    "    string given3 = \"Bababadalgharaghtakamminarronnkonn\";\n",
    "          if (given1.Length > given2.Length)\n",
    "                {\n",
    "                    if(given1.Length > given3.Length)\n",
    "                    {\n",
    "                        Console.WriteLine($\"Longest word is the {given1}+'.'\");\n",
    "                    }\n",
    "                    else  \n",
    "                    {\n",
    "                    Console.WriteLine($\"Longest word is the {given3}\"+'.');\n",
    "                    }\n",
    "                \n",
    "                }\n",
    "          else\n",
    "                {\n",
    "                    if (given2.Length < given3.Length)\n",
    "                    {\n",
    "                        Console.WriteLine($\"Longest word is the {given3}+'.'\");\n",
    "                    }\n",
    "                    else\n",
    "                    {\n",
    "                        Console.WriteLine($\"Longest word is the {given2}+'.'\");\n",
    "                    }\n",
    "                \n",
    "                }\n",
    "            "
   ]
  },
  {
   "cell_type": "code",
   "execution_count": null,
   "id": "fd59a27f",
   "metadata": {},
   "outputs": [],
   "source": [
    "d.Which composer comes first in the dictionary: 'Berlioz', 'Borodin', 'Brian', \n",
    " 'Bartok', 'Bellini', 'Buxtehude', 'Bernstein'. Which one comes last?"
   ]
  },
  {
   "cell_type": "code",
   "execution_count": 33,
   "id": "a1404569",
   "metadata": {},
   "outputs": [
    {
     "name": "stdout",
     "output_type": "stream",
     "text": [
      "Bartok comes first the dictionary.\n",
      "Buxtehude comes last in the dictionary.\n"
     ]
    }
   ],
   "source": [
    "    string[] givenComposers = new string[]\n",
    "                {\n",
    "                    \"Berlioz\",\"Borodin\",\"Brian\",\"Bartok\",\"Bellini\",\"Buxtehude\",\"Bernstein\"\n",
    "                };\n",
    "                Array.Sort(givenComposers);\n",
    "                for (int i=0;i<7;i++){}\n",
    "                Console.WriteLine($\"{givenComposers[0]} comes first the dictionary\"+'.');\n",
    "                Console.WriteLine($\"{givenComposers[6]} comes last in the dictionary\"+'.');\n",
    "                "
   ]
  },
  {
   "cell_type": "code",
   "execution_count": null,
   "id": "40a9ce62",
   "metadata": {},
   "outputs": [],
   "source": [
    "3.Implement function triangleArea(a,b,c) that takes as input the lengths of the 3 sides\n",
    "  of a triangle and returns the area of the triangle. By Heron's formula, the area of a \n",
    "  triangle with side lengths a, b, and c is s(s - a)(s -b)(s -c). where, s = (a+b+c)/2."
   ]
  },
  {
   "cell_type": "code",
   "execution_count": 10,
   "id": "ab8694c2",
   "metadata": {},
   "outputs": [
    {
     "name": "stdout",
     "output_type": "stream",
     "text": [
      "enter value a:\n",
      "2 \n",
      "enter value b:\n",
      "2\n",
      "enter value c:\n",
      "2\n",
      "Area of Triangle : 1.7320508075688772\n"
     ]
    }
   ],
   "source": [
    "    public static double triangleArea(int a,int b,int c)\n",
    "        {\n",
    "            double s = (a + b + c) / 2;\n",
    "            return Math.Sqrt(s * (s - a) *(s - b) * (s - c));\n",
    "        }\n",
    "            Console.WriteLine(\"enter value a:\");\n",
    "            int a = Convert.ToInt32(input());\n",
    "            Console.WriteLine(\"enter value b:\");\n",
    "            int b = Convert.ToInt32(input());\n",
    "            Console.WriteLine(\"enter value c:\");\n",
    "            int c = Convert.ToInt32(input());\n",
    "            double Area = triangleArea(a, b, c);\n",
    "            Console.WriteLine($\"Area of Triangle : {Area}\");\n",
    "        "
   ]
  },
  {
   "cell_type": "code",
   "execution_count": null,
   "id": "a5ffec49",
   "metadata": {},
   "outputs": [],
   "source": [
    "4.Write a program in C# Sharp to separate odd and even integers in separate arrays. \n",
    "  Go to the editor\n",
    "  Test Data :\n",
    "  Input the number of elements to be stored in the array :5\n",
    "  Input 5 elements in the array :\n",
    "  element - 0 : 25\n",
    "  element - 1 : 47\n",
    "  element - 2 : 42\n",
    "  element - 3 : 56\n",
    "  element - 4 : 32\n",
    "  Expected Output:\n",
    "  The Even elements are:\n",
    "  42 56 32\n",
    "  The Odd elements are :\n",
    "  25 4"
   ]
  },
  {
   "cell_type": "code",
   "execution_count": 35,
   "id": "8ca965d9",
   "metadata": {},
   "outputs": [
    {
     "name": "stdout",
     "output_type": "stream",
     "text": [
      "Input the number of elements to be stored in the array\n",
      "5\n",
      "Input 5 elements in the array:\n",
      "element 0:\n",
      "25\n",
      "element 1:\n",
      "47\n",
      "element 2:\n",
      "42\n",
      "element 3:\n",
      "56\n",
      "element 4:\n",
      "32\n",
      "The even elements are...\n",
      "42 56 32 \n",
      "The odd elements are...\n",
      "25 47 "
     ]
    }
   ],
   "source": [
    "    int[] arr1 = new int[10];\n",
    "    int[] arr2 = new int[5];\n",
    "    int[] arr3 = new int[5];\n",
    "    Console.WriteLine(\"Input the number of elements to be stored in the array\");\n",
    "    int a = Convert.ToInt32(input());\n",
    "    Console.WriteLine($\"Input {a} elements in the array:\");\n",
    "    for(i=0;i<a;i++)\n",
    "    {\n",
    "            Console.WriteLine($\"element {i}:\");\n",
    "            arr1[i] = Convert.ToInt32(input());\n",
    "    }\n",
    "\n",
    "             int i, j = 0, k = 0;\n",
    "             for (i = 0; i < 5; i++) \n",
    "             {\n",
    "                if (arr1[i] % 2 == 0)\n",
    "                {\n",
    "                   arr2[j] = arr1[i];\n",
    "                   j++;\n",
    "                } else {\n",
    "                   arr3[k] = arr1[i];\n",
    "                   k++;\n",
    "                }\n",
    "             }\n",
    "             Console.WriteLine(\"The even elements are...\");\n",
    "                for(i = 0; i < j; i++)\n",
    "                 {\n",
    "                    Console.Write($\"{arr2[i]}\"+\" \");\n",
    "                 }\n",
    "            \n",
    "             Console.WriteLine(\"\\nThe odd elements are...\");\n",
    "             for (i = 0; i < k; i++)\n",
    "             {\n",
    "                Console.Write($\"{arr3[i]}\"+\" \");\n",
    "             }\n"
   ]
  },
  {
   "cell_type": "code",
   "execution_count": null,
   "id": "57ab764a",
   "metadata": {},
   "outputs": [],
   "source": [
    "5.\n",
    "a.Write a function inside(x,y,x1,y1,x2,y2) that returns True or False \n",
    "  depending on whether the point (x,y) lies in the rectangle with lower left \n",
    "  corner (x1,y1) and upper right corner (x2,y2).\n",
    "  >>> inside(1,1,0,0,2,3)\n",
    "  True\n",
    "  >>> inside(-1,-1,0,0,2,3)\n",
    "  False"
   ]
  },
  {
   "cell_type": "code",
   "execution_count": 56,
   "id": "913bb0f7",
   "metadata": {},
   "outputs": [
    {
     "name": "stdout",
     "output_type": "stream",
     "text": [
      "Answer for (1,1,0,0,2,3) :\n",
      "True\n",
      "Answer for (-1,-1,0,0,2,3) :\n",
      "False\n"
     ]
    }
   ],
   "source": [
    "class inside\n",
    "    {\n",
    "        public void test(double x, double y, double x1, double y1, double x2, double y2)\n",
    "        {\n",
    "            if ((x > x1 && y > y1) && (x < x2 && y < y2)) \n",
    "            Console.WriteLine(\"True\");\n",
    "            else\n",
    "            Console.WriteLine(\"False\");\n",
    "        }\n",
    "        \n",
    "    }\n",
    "inside module = new inside(); \n",
    "Console.WriteLine(\"Answer for (1,1,0,0,2,3) :\");\n",
    "module.test(1,1,0,0,2,3); \n",
    "\n",
    "Console.WriteLine(\"Answer for (-1,-1,0,0,2,3) :\");\n",
    "module.test(-1,-1,0,0,2,3);\n",
    "\n",
    "\n",
    "\n"
   ]
  },
  {
   "cell_type": "code",
   "execution_count": null,
   "id": "d32d211e",
   "metadata": {},
   "outputs": [],
   "source": []
  },
  {
   "cell_type": "code",
   "execution_count": null,
   "id": "1f6f41c4",
   "metadata": {},
   "outputs": [],
   "source": []
  },
  {
   "cell_type": "code",
   "execution_count": null,
   "id": "f5794b6b",
   "metadata": {},
   "outputs": [],
   "source": []
  }
 ],
 "metadata": {
  "kernelspec": {
   "display_name": ".NET (C#)",
   "language": "C#",
   "name": ".net-csharp"
  },
  "language_info": {
   "file_extension": ".cs",
   "mimetype": "text/x-csharp",
   "name": "C#",
   "pygments_lexer": "csharp",
   "version": "8.0"
  }
 },
 "nbformat": 4,
 "nbformat_minor": 5
}
